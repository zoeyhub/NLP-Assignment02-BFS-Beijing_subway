{
 "cells": [
  {
   "cell_type": "markdown",
   "metadata": {},
   "source": [
    "# AI for NLP. Lecture 1 Part 1"
   ]
  },
  {
   "cell_type": "markdown",
   "metadata": {},
   "source": [
    "## Build Graph"
   ]
  },
  {
   "cell_type": "code",
   "execution_count": 1,
   "metadata": {},
   "outputs": [],
   "source": [
    "coordination_source = \"\"\"\n",
    "{name:'兰州', geoCoord:[103.73, 36.03]},\n",
    "{name:'嘉峪关', geoCoord:[98.17, 39.47]},\n",
    "{name:'西宁', geoCoord:[101.74, 36.56]},\n",
    "{name:'成都', geoCoord:[104.06, 30.67]},\n",
    "{name:'石家庄', geoCoord:[114.48, 38.03]},\n",
    "{name:'拉萨', geoCoord:[102.73, 25.04]},\n",
    "{name:'贵阳', geoCoord:[106.71, 26.57]},\n",
    "{name:'武汉', geoCoord:[114.31, 30.52]},\n",
    "{name:'郑州', geoCoord:[113.65, 34.76]},\n",
    "{name:'济南', geoCoord:[117, 36.65]},\n",
    "{name:'南京', geoCoord:[118.78, 32.04]},\n",
    "{name:'合肥', geoCoord:[117.27, 31.86]},\n",
    "{name:'杭州', geoCoord:[120.19, 30.26]},\n",
    "{name:'南昌', geoCoord:[115.89, 28.68]},\n",
    "{name:'福州', geoCoord:[119.3, 26.08]},\n",
    "{name:'广州', geoCoord:[113.23, 23.16]},\n",
    "{name:'长沙', geoCoord:[113, 28.21]},\n",
    "//{name:'海口', geoCoord:[110.35, 20.02]},\n",
    "{name:'沈阳', geoCoord:[123.38, 41.8]},\n",
    "{name:'长春', geoCoord:[125.35, 43.88]},\n",
    "{name:'哈尔滨', geoCoord:[126.63, 45.75]},\n",
    "{name:'太原', geoCoord:[112.53, 37.87]},\n",
    "{name:'西安', geoCoord:[108.95, 34.27]},\n",
    "//{name:'台湾', geoCoord:[121.30, 25.03]},\n",
    "{name:'北京', geoCoord:[116.46, 39.92]},\n",
    "{name:'上海', geoCoord:[121.48, 31.22]},\n",
    "{name:'重庆', geoCoord:[106.54, 29.59]},\n",
    "{name:'天津', geoCoord:[117.2, 39.13]},\n",
    "{name:'呼和浩特', geoCoord:[111.65, 40.82]},\n",
    "{name:'南宁', geoCoord:[108.33, 22.84]},\n",
    "//{name:'西藏', geoCoord:[91.11, 29.97]},\n",
    "{name:'银川', geoCoord:[106.27, 38.47]},\n",
    "{name:'乌鲁木齐', geoCoord:[87.68, 43.77]},\n",
    "{name:'香港', geoCoord:[114.17, 22.28]},\n",
    "{name:'澳门', geoCoord:[113.54, 22.19]}\n",
    "\"\"\""
   ]
  },
  {
   "cell_type": "markdown",
   "metadata": {},
   "source": [
    "### Get data from source using regular expression"
   ]
  },
  {
   "cell_type": "code",
   "execution_count": 2,
   "metadata": {},
   "outputs": [],
   "source": [
    "import re"
   ]
  },
  {
   "cell_type": "markdown",
   "metadata": {},
   "source": [
    "## regular expression"
   ]
  },
  {
   "cell_type": "markdown",
   "metadata": {},
   "source": [
    "[a-z]\n",
    "[A-Z]\n",
    "[^a]: negation\n",
    "colou?r:  ? zero or one of its previous character\n",
    "* : zero or more of its previous character\n",
    "+: one or more\n",
    ".:match any single character\n",
    "^:start of the line\n",
    "$:end of the line\n",
    "| [cat|dog] : cat or dog\n",
    "(da): make the string da like a character\n"
   ]
  },
  {
   "cell_type": "code",
   "execution_count": 3,
   "metadata": {},
   "outputs": [],
   "source": [
    "l = \"color or colour\""
   ]
  },
  {
   "cell_type": "code",
   "execution_count": 4,
   "metadata": {},
   "outputs": [
    {
     "data": {
      "text/plain": [
       "['color', 'colour']"
      ]
     },
     "execution_count": 4,
     "metadata": {},
     "output_type": "execute_result"
    }
   ],
   "source": [
    "pattern = re.compile(\"colou?r\")\n",
    "pattern.findall(l)"
   ]
  },
  {
   "cell_type": "code",
   "execution_count": 82,
   "metadata": {},
   "outputs": [],
   "source": [
    "def get_city_info(city_coordination):\n",
    "    city_location = {}\n",
    "    for line in city_coordination.split(\"\\n\"):\n",
    "        if line.startswith(\"//\"): continue\n",
    "        if line.strip() == \"\":continue\n",
    "            \n",
    "        city = re.findall(\"name:'(\\w+)'\",line)[0]\n",
    "        x_y = re.findall(\"Coord:\\[(\\d+.\\d+),\\s(\\d+.\\d+)\\]\",line)[0]\n",
    "#        print(x_y)\n",
    "#        print(type(x_y))\n",
    "        x_y = tuple(map(float,x_y))\n",
    "        city_location[city] = x_y\n",
    "    return city_location"
   ]
  },
  {
   "cell_type": "code",
   "execution_count": 83,
   "metadata": {},
   "outputs": [
    {
     "name": "stdout",
     "output_type": "stream",
     "text": [
      "{'兰州': (103.73, 36.03), '嘉峪关': (98.17, 39.47), '西宁': (101.74, 36.56), '成都': (104.06, 30.67), '石家庄': (114.48, 38.03), '拉萨': (102.73, 25.04), '贵阳': (106.71, 26.57), '武汉': (114.31, 30.52), '郑州': (113.65, 34.76), '济南': (117.0, 36.65), '南京': (118.78, 32.04), '合肥': (117.27, 31.86), '杭州': (120.19, 30.26), '南昌': (115.89, 28.68), '福州': (119.3, 26.08), '广州': (113.23, 23.16), '长沙': (113.0, 28.21), '沈阳': (123.38, 41.8), '长春': (125.35, 43.88), '哈尔滨': (126.63, 45.75), '太原': (112.53, 37.87), '西安': (108.95, 34.27), '北京': (116.46, 39.92), '上海': (121.48, 31.22), '重庆': (106.54, 29.59), '天津': (117.2, 39.13), '呼和浩特': (111.65, 40.82), '南宁': (108.33, 22.84), '银川': (106.27, 38.47), '乌鲁木齐': (87.68, 43.77), '香港': (114.17, 22.28), '澳门': (113.54, 22.19)}\n"
     ]
    }
   ],
   "source": [
    "city_info = get_city_info(coordination_source)\n",
    "print(city_info)"
   ]
  },
  {
   "cell_type": "markdown",
   "metadata": {},
   "source": [
    "### Compute distance between cities"
   ]
  },
  {
   "cell_type": "code",
   "execution_count": 8,
   "metadata": {},
   "outputs": [],
   "source": [
    "import math\n",
    "\n",
    "def geo_distance(origin, destination):\n",
    "    \"\"\"\n",
    "    Calculate the Haversine distance.\n",
    "\n",
    "    Parameters\n",
    "    ----------\n",
    "    origin : tuple of float\n",
    "        (lat, long)\n",
    "    destination : tuple of float\n",
    "        (lat, long)\n",
    "\n",
    "    Returns\n",
    "    -------\n",
    "    distance_in_km : float\n",
    "\n",
    "    Examples\n",
    "    --------\n",
    "    >>> origin = (48.1372, 11.5756)  # Munich\n",
    "    >>> destination = (52.5186, 13.4083)  # Berlin\n",
    "    >>> round(distance(origin, destination), 1)\n",
    "    504.2\n",
    "    \"\"\"\n",
    "    lat1, lon1 = origin\n",
    "    lat2, lon2 = destination\n",
    "    radius = 6371  # km\n",
    "\n",
    "    dlat = math.radians(lat2 - lat1)\n",
    "    dlon = math.radians(lon2 - lon1)\n",
    "    a = (math.sin(dlat / 2) * math.sin(dlat / 2) +\n",
    "         math.cos(math.radians(lat1)) * math.cos(math.radians(lat2)) *\n",
    "         math.sin(dlon / 2) * math.sin(dlon / 2))\n",
    "    c = 2 * math.atan2(math.sqrt(a), math.sqrt(1 - a))\n",
    "    d = radius * c\n",
    "\n",
    "    return d"
   ]
  },
  {
   "cell_type": "code",
   "execution_count": 9,
   "metadata": {},
   "outputs": [
    {
     "data": {
      "text/plain": [
       "153.5185697155768"
      ]
     },
     "execution_count": 9,
     "metadata": {},
     "output_type": "execute_result"
    }
   ],
   "source": [
    "def get_city_distance(city1,city2):\n",
    "    return geo_distance(city_info[city1],city_info[city2])\n",
    "\n",
    "get_city_distance(\"杭州\",\"上海\")"
   ]
  },
  {
   "cell_type": "markdown",
   "metadata": {},
   "source": [
    "### Draw the graph"
   ]
  },
  {
   "cell_type": "code",
   "execution_count": 52,
   "metadata": {},
   "outputs": [],
   "source": [
    "import networkx as nx\n",
    "import matplotlib.pyplot as plt\n",
    "\n",
    "\n",
    "#%matplotlib inline\n",
    "\n",
    "plt.rcParams['font.sans-serif'] = ['SimHei']  #用来正常显示中文标签\n",
    "#plt.rcParams['axes.unicode_minus'] = False\n"
   ]
  },
  {
   "cell_type": "code",
   "execution_count": 53,
   "metadata": {},
   "outputs": [
    {
     "data": {
      "text/plain": [
       "dict_keys(['兰州', '嘉峪关', '西宁', '成都', '石家庄', '拉萨', '贵阳', '武汉', '郑州', '济南', '南京', '合肥', '杭州', '南昌', '福州', '广州', '长沙', '沈阳', '长春', '哈尔滨', '太原', '西安', '北京', '上海', '重庆', '天津', '呼和浩特', '南宁', '银川', '乌鲁木齐', '香港', '澳门'])"
      ]
     },
     "execution_count": 53,
     "metadata": {},
     "output_type": "execute_result"
    }
   ],
   "source": [
    "city_info.keys()"
   ]
  },
  {
   "cell_type": "code",
   "execution_count": 74,
   "metadata": {},
   "outputs": [],
   "source": []
  },
  {
   "cell_type": "code",
   "execution_count": 78,
   "metadata": {},
   "outputs": [],
   "source": [
    "city_graph = nx.Graph()\n",
    "\n",
    "city_graph.add_nodes_from(list(city_info.keys()))\n",
    "                       "
   ]
  },
  {
   "cell_type": "code",
   "execution_count": 79,
   "metadata": {},
   "outputs": [
    {
     "data": {
      "image/png": "[encoded data removed]",
      "text/plain": [
       "<Figure size 432x288 with 1 Axes>"
      ]
     },
     "metadata": {},
     "output_type": "display_data"
    }
   ],
   "source": [
    "nx.draw(city_graph, city_info, with_labels=True, node_size=10)\n"
   ]
  },
  {
   "cell_type": "markdown",
   "metadata": {},
   "source": [
    "### Build connection between. Let's assume that two cities are connected if their distance is less than 700 km."
   ]
  },
  {
   "cell_type": "code",
   "execution_count": 14,
   "metadata": {},
   "outputs": [],
   "source": [
    "threshold = 700   # defined the threshold"
   ]
  },
  {
   "cell_type": "code",
   "execution_count": 15,
   "metadata": {},
   "outputs": [],
   "source": [
    "from collections import defaultdict"
   ]
  },
  {
   "cell_type": "code",
   "execution_count": 16,
   "metadata": {},
   "outputs": [],
   "source": [
    "def build_connection(city_info):\n",
    "    cities_connection = defaultdict(list)\n",
    "    cities = list(city_info.keys())\n",
    "    for c1 in cities:\n",
    "        for c2 in cities:\n",
    "            if c1 == c2 : continue\n",
    "            \n",
    "            if get_city_distance(c1,c2) < threshold:\n",
    "                cities_connection[c1].append(c2)\n",
    "    return cities_connection\n",
    "\n",
    "cities_connection = build_connection(city_info)"
   ]
  },
  {
   "cell_type": "code",
   "execution_count": 17,
   "metadata": {},
   "outputs": [
    {
     "data": {
      "text/plain": [
       "defaultdict(list,\n",
       "            {'兰州': ['嘉峪关', '西宁', '成都', '拉萨', '贵阳', '西安', '重庆', '南宁', '银川'],\n",
       "             '嘉峪关': ['兰州', '西宁', '成都', '拉萨'],\n",
       "             '西宁': ['兰州', '嘉峪关', '成都', '拉萨', '贵阳', '重庆', '银川'],\n",
       "             '成都': ['兰州', '嘉峪关', '西宁', '拉萨', '贵阳', '西安', '重庆', '南宁', '银川'],\n",
       "             '石家庄': ['武汉',\n",
       "              '郑州',\n",
       "              '济南',\n",
       "              '南京',\n",
       "              '合肥',\n",
       "              '南昌',\n",
       "              '广州',\n",
       "              '长沙',\n",
       "              '太原',\n",
       "              '西安',\n",
       "              '北京',\n",
       "              '天津',\n",
       "              '呼和浩特'],\n",
       "             '拉萨': ['兰州', '嘉峪关', '西宁', '成都', '贵阳', '重庆', '南宁', '银川'],\n",
       "             '贵阳': ['兰州', '西宁', '成都', '拉萨', '西安', '重庆', '南宁', '银川'],\n",
       "             '武汉': ['石家庄',\n",
       "              '郑州',\n",
       "              '济南',\n",
       "              '南京',\n",
       "              '合肥',\n",
       "              '杭州',\n",
       "              '南昌',\n",
       "              '福州',\n",
       "              '广州',\n",
       "              '长沙',\n",
       "              '太原',\n",
       "              '西安',\n",
       "              '北京',\n",
       "              '天津',\n",
       "              '呼和浩特',\n",
       "              '香港',\n",
       "              '澳门'],\n",
       "             '郑州': ['石家庄',\n",
       "              '武汉',\n",
       "              '济南',\n",
       "              '南京',\n",
       "              '合肥',\n",
       "              '南昌',\n",
       "              '广州',\n",
       "              '长沙',\n",
       "              '太原',\n",
       "              '西安',\n",
       "              '北京',\n",
       "              '天津',\n",
       "              '呼和浩特',\n",
       "              '香港',\n",
       "              '澳门'],\n",
       "             '济南': ['石家庄',\n",
       "              '武汉',\n",
       "              '郑州',\n",
       "              '南京',\n",
       "              '合肥',\n",
       "              '杭州',\n",
       "              '南昌',\n",
       "              '福州',\n",
       "              '长沙',\n",
       "              '太原',\n",
       "              '北京',\n",
       "              '上海',\n",
       "              '天津',\n",
       "              '呼和浩特'],\n",
       "             '南京': ['石家庄',\n",
       "              '武汉',\n",
       "              '郑州',\n",
       "              '济南',\n",
       "              '合肥',\n",
       "              '杭州',\n",
       "              '南昌',\n",
       "              '福州',\n",
       "              '长沙',\n",
       "              '北京',\n",
       "              '上海',\n",
       "              '天津'],\n",
       "             '合肥': ['石家庄',\n",
       "              '武汉',\n",
       "              '郑州',\n",
       "              '济南',\n",
       "              '南京',\n",
       "              '杭州',\n",
       "              '南昌',\n",
       "              '福州',\n",
       "              '广州',\n",
       "              '长沙',\n",
       "              '太原',\n",
       "              '北京',\n",
       "              '上海',\n",
       "              '天津',\n",
       "              '香港',\n",
       "              '澳门'],\n",
       "             '杭州': ['武汉', '济南', '南京', '合肥', '南昌', '福州', '北京', '上海', '天津'],\n",
       "             '南昌': ['石家庄',\n",
       "              '武汉',\n",
       "              '郑州',\n",
       "              '济南',\n",
       "              '南京',\n",
       "              '合肥',\n",
       "              '杭州',\n",
       "              '福州',\n",
       "              '广州',\n",
       "              '长沙',\n",
       "              '太原',\n",
       "              '北京',\n",
       "              '上海',\n",
       "              '天津',\n",
       "              '香港',\n",
       "              '澳门'],\n",
       "             '福州': ['武汉',\n",
       "              '济南',\n",
       "              '南京',\n",
       "              '合肥',\n",
       "              '杭州',\n",
       "              '南昌',\n",
       "              '广州',\n",
       "              '上海',\n",
       "              '香港',\n",
       "              '澳门'],\n",
       "             '广州': ['石家庄',\n",
       "              '武汉',\n",
       "              '郑州',\n",
       "              '合肥',\n",
       "              '南昌',\n",
       "              '福州',\n",
       "              '长沙',\n",
       "              '太原',\n",
       "              '西安',\n",
       "              '南宁',\n",
       "              '香港',\n",
       "              '澳门'],\n",
       "             '长沙': ['石家庄',\n",
       "              '武汉',\n",
       "              '郑州',\n",
       "              '济南',\n",
       "              '南京',\n",
       "              '合肥',\n",
       "              '南昌',\n",
       "              '广州',\n",
       "              '太原',\n",
       "              '西安',\n",
       "              '北京',\n",
       "              '天津',\n",
       "              '呼和浩特',\n",
       "              '南宁',\n",
       "              '香港',\n",
       "              '澳门'],\n",
       "             '沈阳': ['长春', '哈尔滨', '上海'],\n",
       "             '长春': ['沈阳', '哈尔滨'],\n",
       "             '哈尔滨': ['沈阳', '长春'],\n",
       "             '太原': ['石家庄',\n",
       "              '武汉',\n",
       "              '郑州',\n",
       "              '济南',\n",
       "              '合肥',\n",
       "              '南昌',\n",
       "              '广州',\n",
       "              '长沙',\n",
       "              '西安',\n",
       "              '北京',\n",
       "              '天津',\n",
       "              '呼和浩特',\n",
       "              '银川',\n",
       "              '澳门'],\n",
       "             '西安': ['兰州',\n",
       "              '成都',\n",
       "              '石家庄',\n",
       "              '贵阳',\n",
       "              '武汉',\n",
       "              '郑州',\n",
       "              '广州',\n",
       "              '长沙',\n",
       "              '太原',\n",
       "              '重庆',\n",
       "              '呼和浩特',\n",
       "              '南宁',\n",
       "              '银川'],\n",
       "             '北京': ['石家庄',\n",
       "              '武汉',\n",
       "              '郑州',\n",
       "              '济南',\n",
       "              '南京',\n",
       "              '合肥',\n",
       "              '杭州',\n",
       "              '南昌',\n",
       "              '长沙',\n",
       "              '太原',\n",
       "              '天津',\n",
       "              '呼和浩特'],\n",
       "             '上海': ['济南', '南京', '合肥', '杭州', '南昌', '福州', '沈阳', '天津'],\n",
       "             '重庆': ['兰州', '西宁', '成都', '拉萨', '贵阳', '西安', '呼和浩特', '南宁', '银川'],\n",
       "             '天津': ['石家庄',\n",
       "              '武汉',\n",
       "              '郑州',\n",
       "              '济南',\n",
       "              '南京',\n",
       "              '合肥',\n",
       "              '杭州',\n",
       "              '南昌',\n",
       "              '长沙',\n",
       "              '太原',\n",
       "              '北京',\n",
       "              '上海',\n",
       "              '呼和浩特'],\n",
       "             '呼和浩特': ['石家庄',\n",
       "              '武汉',\n",
       "              '郑州',\n",
       "              '济南',\n",
       "              '长沙',\n",
       "              '太原',\n",
       "              '西安',\n",
       "              '北京',\n",
       "              '重庆',\n",
       "              '天津',\n",
       "              '银川'],\n",
       "             '南宁': ['兰州',\n",
       "              '成都',\n",
       "              '拉萨',\n",
       "              '贵阳',\n",
       "              '广州',\n",
       "              '长沙',\n",
       "              '西安',\n",
       "              '重庆',\n",
       "              '银川',\n",
       "              '香港',\n",
       "              '澳门'],\n",
       "             '银川': ['兰州',\n",
       "              '西宁',\n",
       "              '成都',\n",
       "              '拉萨',\n",
       "              '贵阳',\n",
       "              '太原',\n",
       "              '西安',\n",
       "              '重庆',\n",
       "              '呼和浩特',\n",
       "              '南宁'],\n",
       "             '香港': ['武汉', '郑州', '合肥', '南昌', '福州', '广州', '长沙', '南宁', '澳门'],\n",
       "             '澳门': ['武汉',\n",
       "              '郑州',\n",
       "              '合肥',\n",
       "              '南昌',\n",
       "              '福州',\n",
       "              '广州',\n",
       "              '长沙',\n",
       "              '太原',\n",
       "              '南宁',\n",
       "              '香港']})"
      ]
     },
     "execution_count": 17,
     "metadata": {},
     "output_type": "execute_result"
    }
   ],
   "source": [
    "cities_connection"
   ]
  },
  {
   "cell_type": "markdown",
   "metadata": {},
   "source": [
    "### Draw connection graph"
   ]
  },
  {
   "cell_type": "code",
   "execution_count": 56,
   "metadata": {},
   "outputs": [],
   "source": [
    "cities_connection_graph = nx.Graph(cities_connection)"
   ]
  },
  {
   "cell_type": "code",
   "execution_count": 57,
   "metadata": {},
   "outputs": [
    {
     "name": "stderr",
     "output_type": "stream",
     "text": [
      "C:\\ProgramData\\Anaconda3\\lib\\site-packages\\networkx\\drawing\\nx_pylab.py:611: MatplotlibDeprecationWarning: isinstance(..., numbers.Number)\n",
      "  if cb.is_numlike(alpha):\n"
     ]
    },
    {
     "data": {
      "image/png": "[encoded data removed]",
      "text/plain": [
       "<Figure size 432x288 with 1 Axes>"
      ]
     },
     "metadata": {},
     "output_type": "display_data"
    }
   ],
   "source": [
    "nx.draw(cities_connection_graph,city_info,with_labels=True,node_size=10)"
   ]
  },
  {
   "cell_type": "markdown",
   "metadata": {},
   "source": [
    "### BFS 1 version"
   ]
  },
  {
   "cell_type": "code",
   "execution_count": 84,
   "metadata": {},
   "outputs": [],
   "source": [
    "def search_1(graph,start,destination):\n",
    "    pathes = [[start]]  # list 用来存储待搜索路径\n",
    "    visited = set() # set用来存储已搜索的节点\n",
    "    \n",
    "    while pathes:\n",
    "        path = pathes.pop(0)  #提取第一条路径\n",
    "        froniter = path[-1]   #提取即将要探索的节点\n",
    "        \n",
    "        if froniter in visited: continue  #检查如果该点已经探索过 则不用再探索\n",
    "            \n",
    "        successsors = graph[froniter]\n",
    "        \n",
    "        for city in successsors:      #遍历子节点\n",
    "            if city in path: continue  # check loop #检查会不会形成环\n",
    "            \n",
    "            new_path = path+[city]\n",
    "            \n",
    "            pathes.append(new_path)  #bfs     #将新路径加到list里面\n",
    "            #pathes = [new_path] + pathes #dfs\n",
    "            \n",
    "            if city == destination:  #检查目的地是不是已经搜索到了\n",
    "                return new_path\n",
    "        visited.add(froniter)"
   ]
  },
  {
   "cell_type": "code",
   "execution_count": 85,
   "metadata": {},
   "outputs": [
    {
     "data": {
      "text/plain": [
       "['上海', '合肥', '香港']"
      ]
     },
     "execution_count": 85,
     "metadata": {},
     "output_type": "execute_result"
    }
   ],
   "source": [
    "search_1(cities_connection,\"上海\",\"香港\")"
   ]
  },
  {
   "cell_type": "markdown",
   "metadata": {},
   "source": [
    "### Optimal search using variation of BFS"
   ]
  },
  {
   "cell_type": "code",
   "execution_count": null,
   "metadata": {},
   "outputs": [],
   "source": []
  },
  {
   "cell_type": "code",
   "execution_count": 1,
   "metadata": {},
   "outputs": [],
   "source": [
    "def search_2(graph,start,destination,search_strategy):\n",
    "    pathes = [[start]]\n",
    "    visited = set()# ！\n",
    "    while pathes:\n",
    "        path = pathes.pop(0)\n",
    "        froniter = path[-1]\n",
    "        if froniter in visited : continue# ！\n",
    "            \n",
    "        if froniter == destination:# ！\n",
    "            return path# ！\n",
    "        \n",
    "        successsors = graph[froniter]\n",
    "        \n",
    "        for city in successsors:\n",
    "            if city in path: continue  # check loop\n",
    "            \n",
    "            new_path = path+[city]\n",
    "            \n",
    "            pathes.append(new_path)  #bfs\n",
    "            \n",
    "        pathes = search_strategy(pathes)\n",
    "        visited.add(froniter) # ！\n",
    "       # if pathes and (destination == pathes[0][-1]):\n",
    "       #     return pathes[0]  \n",
    "        "
   ]
  },
  {
   "cell_type": "code",
   "execution_count": 2,
   "metadata": {},
   "outputs": [],
   "source": [
    "def sort_by_distance(pathes):\n",
    "    def get_distance_of_path(path):\n",
    "        distance = 0\n",
    "        for i,_ in enumerate(path[:-1]):\n",
    "            distance += get_city_distance(path[i],path[i+1])\n",
    "        return distance\n",
    "    return sorted(pathes,key=get_distance_of_path)\n"
   ]
  },
  {
   "cell_type": "code",
   "execution_count": 24,
   "metadata": {},
   "outputs": [],
   "source": [
    "def get_distance_of_path(path):\n",
    "    distance = 0\n",
    "    for i,_ in enumerate(path[:-1]):\n",
    "        distance += get_city_distance(path[i],path[i+1])\n",
    "    return distance"
   ]
  },
  {
   "cell_type": "code",
   "execution_count": 25,
   "metadata": {},
   "outputs": [
    {
     "data": {
      "text/plain": [
       "752.66259009181"
      ]
     },
     "execution_count": 25,
     "metadata": {},
     "output_type": "execute_result"
    }
   ],
   "source": [
    "get_distance_of_path([\"北京\",\"济南\",\"上海\"])"
   ]
  },
  {
   "cell_type": "code",
   "execution_count": 26,
   "metadata": {},
   "outputs": [
    {
     "data": {
      "text/plain": [
       "732.5085345714293"
      ]
     },
     "execution_count": 26,
     "metadata": {},
     "output_type": "execute_result"
    }
   ],
   "source": [
    "get_distance_of_path([\"北京\",\"天津\",\"上海\"])"
   ]
  },
  {
   "cell_type": "code",
   "execution_count": 27,
   "metadata": {},
   "outputs": [
    {
     "data": {
      "text/plain": [
       "['北京', '济南', '上海']"
      ]
     },
     "execution_count": 27,
     "metadata": {},
     "output_type": "execute_result"
    }
   ],
   "source": [
    "search_2(cities_connection,\"北京\",\"上海\",search_strategy=lambda x:x)"
   ]
  },
  {
   "cell_type": "code",
   "execution_count": 28,
   "metadata": {},
   "outputs": [
    {
     "data": {
      "text/plain": [
       "['北京', '天津', '上海']"
      ]
     },
     "execution_count": 28,
     "metadata": {},
     "output_type": "execute_result"
    }
   ],
   "source": [
    "search_2(cities_connection,\"北京\",\"上海\",search_strategy=sort_by_distance)"
   ]
  },
  {
   "cell_type": "markdown",
   "metadata": {},
   "source": [
    "# AI for NLP Lecture 1 Part 2"
   ]
  },
  {
   "cell_type": "markdown",
   "metadata": {},
   "source": [
    "## Machine Learning"
   ]
  },
  {
   "cell_type": "markdown",
   "metadata": {},
   "source": [
    "sklearn 机器学习库，基本的机器学习算法都有"
   ]
  },
  {
   "cell_type": "code",
   "execution_count": 29,
   "metadata": {},
   "outputs": [],
   "source": [
    "from sklearn.datasets import load_boston\n",
    "import random"
   ]
  },
  {
   "cell_type": "code",
   "execution_count": 30,
   "metadata": {},
   "outputs": [],
   "source": [
    "dataset = load_boston() #加载数据集"
   ]
  },
  {
   "cell_type": "code",
   "execution_count": 31,
   "metadata": {},
   "outputs": [],
   "source": [
    "#dataset"
   ]
  },
  {
   "cell_type": "code",
   "execution_count": 32,
   "metadata": {},
   "outputs": [],
   "source": [
    "x,y=dataset['data'],dataset['target']"
   ]
  },
  {
   "cell_type": "code",
   "execution_count": 33,
   "metadata": {},
   "outputs": [
    {
     "data": {
      "text/plain": [
       "(506, 13)"
      ]
     },
     "execution_count": 33,
     "metadata": {},
     "output_type": "execute_result"
    }
   ],
   "source": [
    "x.shape"
   ]
  },
  {
   "cell_type": "code",
   "execution_count": 34,
   "metadata": {},
   "outputs": [
    {
     "data": {
      "text/plain": [
       "(506,)"
      ]
     },
     "execution_count": 34,
     "metadata": {},
     "output_type": "execute_result"
    }
   ],
   "source": [
    "y.shape"
   ]
  },
  {
   "cell_type": "code",
   "execution_count": 35,
   "metadata": {},
   "outputs": [
    {
     "data": {
      "text/plain": [
       "array([2.7310e-02, 0.0000e+00, 7.0700e+00, 0.0000e+00, 4.6900e-01,\n",
       "       6.4210e+00, 7.8900e+01, 4.9671e+00, 2.0000e+00, 2.4200e+02,\n",
       "       1.7800e+01, 3.9690e+02, 9.1400e+00])"
      ]
     },
     "execution_count": 35,
     "metadata": {},
     "output_type": "execute_result"
    }
   ],
   "source": [
    "x[1].shape\n",
    "x[1]"
   ]
  },
  {
   "cell_type": "code",
   "execution_count": 36,
   "metadata": {},
   "outputs": [
    {
     "data": {
      "text/plain": [
       "array(['CRIM', 'ZN', 'INDUS', 'CHAS', 'NOX', 'RM', 'AGE', 'DIS', 'RAD',\n",
       "       'TAX', 'PTRATIO', 'B', 'LSTAT'], dtype='<U7')"
      ]
     },
     "execution_count": 36,
     "metadata": {},
     "output_type": "execute_result"
    }
   ],
   "source": [
    "dataset.feature_names"
   ]
  },
  {
   "cell_type": "code",
   "execution_count": 37,
   "metadata": {},
   "outputs": [
    {
     "data": {
      "text/plain": [
       "\".. _boston_dataset:\\n\\nBoston house prices dataset\\n---------------------------\\n\\n**Data Set Characteristics:**  \\n\\n    :Number of Instances: 506 \\n\\n    :Number of Attributes: 13 numeric/categorical predictive. Median Value (attribute 14) is usually the target.\\n\\n    :Attribute Information (in order):\\n        - CRIM     per capita crime rate by town\\n        - ZN       proportion of residential land zoned for lots over 25,000 sq.ft.\\n        - INDUS    proportion of non-retail business acres per town\\n        - CHAS     Charles River dummy variable (= 1 if tract bounds river; 0 otherwise)\\n        - NOX      nitric oxides concentration (parts per 10 million)\\n        - RM       average number of rooms per dwelling\\n        - AGE      proportion of owner-occupied units built prior to 1940\\n        - DIS      weighted distances to five Boston employment centres\\n        - RAD      index of accessibility to radial highways\\n        - TAX      full-value property-tax rate per $10,000\\n        - PTRATIO  pupil-teacher ratio by town\\n        - B        1000(Bk - 0.63)^2 where Bk is the proportion of blacks by town\\n        - LSTAT    % lower status of the population\\n        - MEDV     Median value of owner-occupied homes in $1000's\\n\\n    :Missing Attribute Values: None\\n\\n    :Creator: Harrison, D. and Rubinfeld, D.L.\\n\\nThis is a copy of UCI ML housing dataset.\\nhttps://archive.ics.uci.edu/ml/machine-learning-databases/housing/\\n\\n\\nThis dataset was taken from the StatLib library which is maintained at Carnegie Mellon University.\\n\\nThe Boston house-price data of Harrison, D. and Rubinfeld, D.L. 'Hedonic\\nprices and the demand for clean air', J. Environ. Economics & Management,\\nvol.5, 81-102, 1978.   Used in Belsley, Kuh & Welsch, 'Regression diagnostics\\n...', Wiley, 1980.   N.B. Various transformations are used in the table on\\npages 244-261 of the latter.\\n\\nThe Boston house-price data has been used in many machine learning papers that address regression\\nproblems.   \\n     \\n.. topic:: References\\n\\n   - Belsley, Kuh & Welsch, 'Regression diagnostics: Identifying Influential Data and Sources of Collinearity', Wiley, 1980. 244-261.\\n   - Quinlan,R. (1993). Combining Instance-Based and Model-Based Learning. In Proceedings on the Tenth International Conference of Machine Learning, 236-243, University of Massachusetts, Amherst. Morgan Kaufmann.\\n\""
      ]
     },
     "execution_count": 37,
     "metadata": {},
     "output_type": "execute_result"
    }
   ],
   "source": [
    "dataset['DESCR']"
   ]
  },
  {
   "cell_type": "code",
   "execution_count": 38,
   "metadata": {},
   "outputs": [],
   "source": [
    "X_rm = x[:,5]"
   ]
  },
  {
   "cell_type": "code",
   "execution_count": 39,
   "metadata": {},
   "outputs": [
    {
     "data": {
      "text/plain": [
       "<matplotlib.collections.PathCollection at 0x214c8dd96a0>"
      ]
     },
     "execution_count": 39,
     "metadata": {},
     "output_type": "execute_result"
    },
    {
     "data": {
      "image/png": "[encoded data removed]",
      "text/plain": [
       "<Figure size 432x288 with 1 Axes>"
      ]
     },
     "metadata": {
      "needs_background": "light"
     },
     "output_type": "display_data"
    }
   ],
   "source": [
    "# plot the RM with respect to y\n",
    "plt.scatter(X_rm,y)"
   ]
  },
  {
   "cell_type": "markdown",
   "metadata": {},
   "source": [
    "### Gradient descent"
   ]
  },
  {
   "cell_type": "markdown",
   "metadata": {},
   "source": [
    "### Assume that the target funciton is a linear function\n",
    "$$ y = k*rm + b$$"
   ]
  },
  {
   "cell_type": "code",
   "execution_count": 40,
   "metadata": {},
   "outputs": [],
   "source": [
    "#define target function\n",
    "def price(rm, k, b):\n",
    "    return k * rm + b"
   ]
  },
  {
   "cell_type": "markdown",
   "metadata": {},
   "source": [
    "### Define mean square loss"
   ]
  },
  {
   "cell_type": "markdown",
   "metadata": {},
   "source": [
    "$$ loss = \\frac{1}{n} \\sum{(y_i - \\hat{y_i})}^2$$"
   ]
  },
  {
   "cell_type": "markdown",
   "metadata": {},
   "source": [
    "$$ loss = \\frac{1}{n} \\sum{(y_i - (kx_i + b_i))}^2 $$"
   ]
  },
  {
   "cell_type": "code",
   "execution_count": 41,
   "metadata": {},
   "outputs": [],
   "source": [
    "# define loss function \n",
    "def loss(y,y_hat):\n",
    "    return sum((y_i - y_hat_i)**2 for y_i, y_hat_i in zip(list(y),list(y_hat)))/len(list(y))"
   ]
  },
  {
   "cell_type": "markdown",
   "metadata": {},
   "source": [
    "### Define partial derivatives"
   ]
  },
  {
   "cell_type": "markdown",
   "metadata": {},
   "source": [
    "$$ \\frac{\\partial{loss}}{\\partial{k}} = -\\frac{2}{n}\\sum(y_i - \\hat{y_i})x_i$$\n"
   ]
  },
  {
   "cell_type": "markdown",
   "metadata": {},
   "source": [
    "$$ \\frac{\\partial{loss}}{\\partial{b}} = -\\frac{2}{n}\\sum(y_i - \\hat{y_i})$$"
   ]
  },
  {
   "cell_type": "code",
   "execution_count": 42,
   "metadata": {},
   "outputs": [],
   "source": [
    "# define partial derivative \n",
    "def partial_derivative_k(x, y, y_hat): \n",
    "    n = len(y)\n",
    "    gradient = 0\n",
    "    for x_i, y_i, y_hat_i in zip(list(x),list(y),list(y_hat)):\n",
    "        gradient += (y_i-y_hat_i) * x_i\n",
    "    return -2/n * gradient\n",
    "\n",
    "def partial_derivative_b(y, y_hat):\n",
    "    n = len(y)\n",
    "    gradient = 0\n",
    "    for y_i, y_hat_i in zip(list(y),list(y_hat)):\n",
    "        gradient += (y_i-y_hat_i)\n",
    "    return -2 / n * gradient"
   ]
  },
  {
   "cell_type": "code",
   "execution_count": 43,
   "metadata": {},
   "outputs": [
    {
     "name": "stdout",
     "output_type": "stream",
     "text": [
      "Iteration 0, the loss is 65799.33707250052, parameters k is 47.44096380371775 and b is -20.603483561383015\n",
      "Iteration 1, the loss is 55463.1379763311, parameters k is 44.19786035468056 and b is -21.11350920659194\n",
      "Iteration 2, the loss is 46751.71337191103, parameters k is 41.22054658812215 and b is -21.581751361595327\n",
      "Iteration 3, the loss is 39409.66065584732, parameters k is 38.48723981634847 and b is -22.01163437533021\n",
      "Iteration 4, the loss is 33221.72463606531, parameters k is 35.97794254316529 and b is -22.406301955579487\n",
      "Iteration 5, the loss is 28006.486653947224, parameters k is 33.674296159219416 and b is -22.76864016880599\n",
      "Iteration 6, the loss is 23611.045730067322, parameters k is 31.559446627679918 and b is -23.101298555044355\n",
      "Iteration 7, the loss is 19906.535794708834, parameters k is 29.617921177595974 and b is -23.406709512330266\n",
      "Iteration 8, the loss is 16784.34757678266, parameters k is 27.83551510280143 and b is -23.687106092486573\n",
      "Iteration 9, the loss is 14152.94438402812, parameters k is 26.199187838170094 and b is -23.94453833846281\n",
      "Iteration 10, the loss is 11935.178419153139, parameters k is 24.696967552900173 and b is -24.180888282754566\n",
      "Iteration 11, the loss is 10066.028951344404, parameters k is 23.317863562818104 and b is -24.39788371663337\n",
      "Iteration 12, the loss is 8490.696030585283, parameters k is 22.051785920897167 and b is -24.59711083092481\n",
      "Iteration 13, the loss is 7162.993856066434, parameters k is 20.88947159770312 and b is -24.780025820816718\n",
      "Iteration 14, the loss is 6043.996695268826, parameters k is 19.822416711692064 and b is -24.94796553959993\n",
      "Iteration 15, the loss is 5100.897654610711, parameters k is 18.842814313547237 and b is -25.102157279285944\n",
      "Iteration 16, the loss is 4306.0468429574585, parameters k is 17.94349726937574 and b is -25.243727749657957\n",
      "Iteration 17, the loss is 3636.1407287555458, parameters k is 17.117885824890152 and b is -25.373711321447363\n",
      "Iteration 18, the loss is 3071.538924264483, parameters k is 16.35993946694674 and b is -25.49305759394398\n",
      "Iteration 19, the loss is 2595.6883662839264, parameters k is 15.664112730252176 and b is -25.602638342405804\n",
      "Iteration 20, the loss is 2194.638011436567, parameters k is 15.025314625913987 and b is -25.703253896096566\n",
      "Iteration 21, the loss is 1856.629817784194, parameters k is 14.438871395008027 and b is -25.79563899361375\n",
      "Iteration 22, the loss is 1571.7540211262638, parameters k is 13.900492314662488 and b is -25.880468158345536\n",
      "Iteration 23, the loss is 1331.6585993296342, parameters k is 13.406238306490694 and b is -25.958360633384316\n",
      "Iteration 24, the loss is 1129.30440672939, parameters k is 12.952493117707284 and b is -26.029884912001336\n",
      "Iteration 25, the loss is 958.7587996014211, parameters k is 12.535936864084547 and b is -26.095562896828074\n",
      "Iteration 26, the loss is 815.0217021932538, parameters k is 12.15352174118525 and b is -26.15587371817359\n",
      "Iteration 27, the loss is 693.8790138959412, parameters k is 11.802449726171698 and b is -26.211257239413182\n",
      "Iteration 28, the loss is 591.7790597306473, parameters k is 11.48015210705417 and b is -26.26211727509431\n",
      "Iteration 29, the loss is 505.7284619103009, parameters k is 11.18427068961164 and b is -26.308824545303946\n",
      "Iteration 30, the loss is 433.20437962613164, parameters k is 10.912640544491842 and b is -26.351719387911885\n",
      "Iteration 31, the loss is 372.08054409445447, parameters k is 10.663274168265868 and b is -26.391114248533285\n",
      "Iteration 32, the loss is 320.5649203502635, parameters k is 10.434346942557248 and b is -26.427295966427284\n",
      "Iteration 33, the loss is 277.1471681485004, parameters k is 10.224183784862303 and b is -26.460527873055717\n",
      "Iteration 34, the loss is 240.5543616253401, parameters k is 10.031246893397219 and b is -26.491051718655285\n",
      "Iteration 35, the loss is 209.7136695031261, parameters k is 9.854124496311279 and b is -26.519089440918272\n",
      "Iteration 36, the loss is 183.7209016926916, parameters k is 9.691520522953873 and b is -26.54484478872174\n",
      "Iteration 37, the loss is 161.81400013852056, parameters k is 9.542245121628687 and b is -26.56850481278464\n",
      "Iteration 38, the loss is 143.35069670813127, parameters k is 9.405205954461586 and b is -26.590241234158704\n",
      "Iteration 39, the loss is 127.78968309697242, parameters k is 9.279400205694127 and b is -26.610211700565234\n",
      "Iteration 40, the loss is 114.6747406858139, parameters k is 9.163907244934206 and b is -26.62856093976929\n",
      "Iteration 41, the loss is 103.62136506786538, parameters k is 9.057881891687066 and b is -26.64542181842956\n",
      "Iteration 42, the loss is 94.30549310188371, parameters k is 8.960548231888993 and b is -26.660916314170617\n",
      "Iteration 43, the loss is 86.45400198964411, parameters k is 8.871193941204528 and b is -26.675156407989363\n",
      "Iteration 44, the loss is 79.83670182857433, parameters k is 8.789165073555603 and b is -26.688244903524684\n",
      "Iteration 45, the loss is 74.25958687623609, parameters k is 8.713861276754692 and b is -26.700276179184172\n",
      "Iteration 46, the loss is 69.55914766640934, parameters k is 8.644731400238836 and b is -26.711336878630593\n",
      "Iteration 47, the loss is 65.59757721870409, parameters k is 8.581269462770095 and b is -26.721506544679833\n",
      "Iteration 48, the loss is 62.258730796775225, parameters k is 8.52301095060149 and b is -26.730858201247965\n",
      "Iteration 49, the loss is 59.44472076283707, parameters k is 8.469529419025289 and b is -26.7394588876051\n",
      "Iteration 50, the loss is 57.07304669601117, parameters k is 8.42043337244004 and b is -26.747370148844656\n",
      "Iteration 51, the loss is 55.07417663496914, parameters k is 8.375363400110492 and b is -26.754648486156427\n",
      "Iteration 52, the loss is 53.38950853144552, parameters k is 8.33398954666514 and b is -26.761345770197696\n",
      "Iteration 53, the loss is 51.96965214827078, parameters k is 8.296008898093623 and b is -26.767509620586683\n",
      "Iteration 54, the loss is 50.77298103039964, parameters k is 8.261143365582733 and b is -26.77318375429476\n",
      "Iteration 55, the loss is 49.764412095447504, parameters k is 8.22913765097726 and b is -26.778408305486316\n",
      "Iteration 56, the loss is 48.91437706361991, parameters k is 8.19975737898069 and b is -26.78322011914629\n",
      "Iteration 57, the loss is 48.197955571295466, parameters k is 8.172787382430652 and b is -26.787653020643543\n",
      "Iteration 58, the loss is 47.59414455277841, parameters k is 8.14803012810392 and b is -26.79173806320231\n",
      "Iteration 59, the loss is 47.085242469868106, parameters k is 8.125304271533961 and b is -26.795503755092206\n",
      "Iteration 60, the loss is 46.65633033601269, parameters k is 8.104443330267813 and b is -26.798976268198956\n",
      "Iteration 61, the loss is 46.29483431964887, parameters k is 8.085294465855684 and b is -26.802179629501826\n",
      "Iteration 62, the loss is 45.9901571030821, parameters k is 8.067717365662105 and b is -26.805135896858562\n",
      "Iteration 63, the loss is 45.73336718903864, parameters k is 8.051583216317796 and b is -26.807865320383975\n",
      "Iteration 64, the loss is 45.51693704594464, parameters k is 8.03677376130189 and b is -26.810386490602777\n",
      "Iteration 65, the loss is 45.33452241484069, parameters k is 8.023180435759613 and b is -26.81271647446064\n",
      "Iteration 66, the loss is 45.180776307627504, parameters k is 8.010703572225664 and b is -26.814870940188502\n",
      "Iteration 67, the loss is 45.051192243419315, parameters k is 7.999251671442181 and b is -26.816864271933685\n",
      "Iteration 68, the loss is 44.94197212699032, parameters k is 7.988740732936569 and b is -26.818709674996448\n",
      "Iteration 69, the loss is 44.84991489575741, parameters k is 7.979093640461529 and b is -26.820419272441935\n",
      "Iteration 70, the loss is 44.77232267063848, parameters k is 7.970239597801116 and b is -26.822004193794317\n",
      "Iteration 71, the loss is 44.706921659306076, parameters k is 7.962113610815085 and b is -26.823474656462054\n",
      "Iteration 72, the loss is 44.651795492867855, parameters k is 7.954656011932089 and b is -26.824840040489967\n",
      "Iteration 73, the loss is 44.60532904153048, parameters k is 7.9478120236128404 and b is -26.826108957185053\n",
      "Iteration 74, the loss is 44.566161062028456, parameters k is 7.941531357589483 and b is -26.827289312118072\n",
      "Iteration 75, the loss is 44.533144288528455, parameters k is 7.935767846949138 and b is -26.828388362961892\n",
      "Iteration 76, the loss is 44.505311796950515, parameters k is 7.930479108369896 and b is -26.829412772589702\n",
      "Iteration 77, the loss is 44.48184865657055, parameters k is 7.925626232038129 and b is -26.830368657821573\n",
      "Iteration 78, the loss is 44.46206803778188, parameters k is 7.921173496978497 and b is -26.831261634176037\n",
      "Iteration 79, the loss is 44.445391075542126, parameters k is 7.917088109713978 and b is -26.832096856954045\n",
      "Iteration 80, the loss is 44.431329898137236, parameters k is 7.913339964343908 and b is -26.83287905895592\n",
      "Iteration 81, the loss is 44.41947332369927, parameters k is 7.90990142228473 and b is -26.83361258510723\n",
      "Iteration 82, the loss is 44.40947480512648, parameters k is 7.906747110062004 and b is -26.8343014242469\n",
      "Iteration 83, the loss is 44.401042269973594, parameters k is 7.903853733674288 and b is -26.834949238310163\n",
      "Iteration 84, the loss is 44.39392955743601, parameters k is 7.901199908170759 and b is -26.83555938911982\n",
      "Iteration 85, the loss is 44.38792920137764, parameters k is 7.898766001195728 and b is -26.83613496298182\n",
      "Iteration 86, the loss is 44.382866347813604, parameters k is 7.896533989355404 and b is -26.836678793265154\n",
      "Iteration 87, the loss is 44.37859362851968, parameters k is 7.894487326356061 and b is -26.83719348113119\n",
      "Iteration 88, the loss is 44.37498684047282, parameters k is 7.8926108219488915 and b is -26.837681414564166\n",
      "Iteration 89, the loss is 44.37194130445203, parameters k is 7.890890530795884 and b is -26.838144785842026\n",
      "Iteration 90, the loss is 44.36936879604026, parameters k is 7.889313650443655 and b is -26.838585607575457\n",
      "Iteration 91, the loss is 44.36719495904992, parameters k is 7.887868427658792 and b is -26.839005727432447\n",
      "Iteration 92, the loss is 44.36535712553949, parameters k is 7.886544072439452 and b is -26.839406841656103\n",
      "Iteration 93, the loss is 44.36380247850699, parameters k is 7.8853306790741 and b is -26.839790507474607\n",
      "Iteration 94, the loss is 44.36248650339487, parameters k is 7.8842191536698465 and b is -26.840158154494134\n",
      "Iteration 95, the loss is 44.36137168300653, parameters k is 7.883201147620176 and b is -26.840511095158067\n",
      "Iteration 96, the loss is 44.36042639757298, parameters k is 7.8822689965253 and b is -26.84085053434902\n",
      "Iteration 97, the loss is 44.359623997720384, parameters k is 7.881415664118265 and b is -26.84117757820394\n",
      "Iteration 98, the loss is 44.358942023160346, parameters k is 7.880634690786574 and b is -26.841493242206774\n",
      "Iteration 99, the loss is 44.35836154419696, parameters k is 7.879920146312705 and b is -26.841798458617887\n",
      "Iteration 100, the loss is 44.357866606743, parameters k is 7.879266586487754 and b is -26.842094083294636\n",
      "Iteration 101, the loss is 44.35744376457651, parameters k is 7.87866901328079 and b is -26.842380901952932\n",
      "Iteration 102, the loss is 44.35708168512295, parameters k is 7.878122838272522 and b is -26.84265963591566\n",
      "Iteration 103, the loss is 44.35677081720479, parameters k is 7.877623849085735 and b is -26.842930947389984\n",
      "Iteration 104, the loss is 44.35650311101976, parameters k is 7.877168178566913 and b is -26.843195444312155\n",
      "Iteration 105, the loss is 44.35627178213509, parameters k is 7.876752276493572 and b is -26.843453684795257\n",
      "Iteration 106, the loss is 44.3560711125809, parameters k is 7.876372883600295 and b is -26.84370618121245\n",
      "Iteration 107, the loss is 44.35589628321025, parameters k is 7.87602700773347 and b is -26.843953403945562\n",
      "Iteration 108, the loss is 44.35574323241058, parameters k is 7.875711901960244 and b is -26.844195784826475\n",
      "Iteration 109, the loss is 44.355608537024956, parameters k is 7.875425044471553 and b is -26.844433720296472\n",
      "Iteration 110, the loss is 44.35548931199154, parameters k is 7.875164120132192 and b is -26.84466757430665\n",
      "Iteration 111, the loss is 44.35538312575898, parameters k is 7.874927003542944 and b is -26.84489768098066\n",
      "Iteration 112, the loss is 44.3552879289979, parameters k is 7.874711743490839 and b is -26.84512434705918\n",
      "Iteration 113, the loss is 44.3552019945185, parameters k is 7.874516548673791 and b is -26.84534785414409\n",
      "Iteration 114, the loss is 44.35512386663234, parameters k is 7.874339774595164 and b is -26.845568460758713\n",
      "Iteration 115, the loss is 44.35505231847457, parameters k is 7.874179911532392 and b is -26.8457864042392\n",
      "Iteration 116, the loss is 44.354986316034534, parameters k is 7.8740355734916205 and b is -26.84600190247092\n",
      "Iteration 117, the loss is 44.35492498784032, parameters k is 7.873905488067573 and b is -26.84621515548255\n",
      "Iteration 118, the loss is 44.35486759940919, parameters k is 7.873788487134441 and b is -26.8464263469095\n",
      "Iteration 119, the loss is 44.35481353171332, parameters k is 7.8736834982997035 and b is -26.846635645337418\n",
      "Iteration 120, the loss is 44.35476226303169, parameters k is 7.873589537058344 and b is -26.8468432055356\n",
      "Iteration 121, the loss is 44.35471335365412, parameters k is 7.873505699590064 and b is -26.847049169589287\n",
      "Iteration 122, the loss is 44.35466643298935, parameters k is 7.873431156146797 and b is -26.847253667939196\n",
      "Iteration 123, the loss is 44.35462118870058, parameters k is 7.873365144982153 and b is -26.84745682033583\n",
      "Iteration 124, the loss is 44.354577357547875, parameters k is 7.873306966778365 and b is -26.847658736715598\n",
      "Iteration 125, the loss is 44.35453471767073, parameters k is 7.873255979529977 and b is -26.84785951800513\n",
      "Iteration 126, the loss is 44.35449308208339, parameters k is 7.8732115938468334 and b is -26.848059256859653\n",
      "Iteration 127, the loss is 44.35445229319296, parameters k is 7.873173268642019 and b is -26.848258038340884\n",
      "Iteration 128, the loss is 44.354412218179064, parameters k is 7.873140507173181 and b is -26.848455940539353\n",
      "Iteration 129, the loss is 44.35437274509951, parameters k is 7.87311285340829 and b is -26.84865303514572\n",
      "Iteration 130, the loss is 44.3543337796086, parameters k is 7.8730898886892415 and b is -26.848849387975267\n",
      "Iteration 131, the loss is 44.35429524219128, parameters k is 7.873071228668891 and b is -26.84904505944943\n",
      "Iteration 132, the loss is 44.35425706583144, parameters k is 7.873056520499112 and b is -26.849240105037836\n",
      "Iteration 133, the loss is 44.35421919404741, parameters k is 7.873045440249308 and b is -26.849434575664127\n"
     ]
    },
    {
     "name": "stdout",
     "output_type": "stream",
     "text": [
      "Iteration 134, the loss is 44.35418157923617, parameters k is 7.873037690536488 and b is -26.849628518078525\n",
      "Iteration 135, the loss is 44.35414418127747, parameters k is 7.873032998349563 and b is -26.84982197519987\n",
      "Iteration 136, the loss is 44.3541069663575, parameters k is 7.873031113051965 and b is -26.850014986429613\n",
      "Iteration 137, the loss is 44.35406990597794, parameters k is 7.873031804547946 and b is -26.850207587940087\n",
      "Iteration 138, the loss is 44.354032976120074, parameters k is 7.873034861599163 and b is -26.850399812939138\n",
      "Iteration 139, the loss is 44.353996156540724, parameters k is 7.873040090279233 and b is -26.85059169191309\n",
      "Iteration 140, the loss is 44.353959430178875, parameters k is 7.873047312554928 and b is -26.850783252849777\n",
      "Iteration 141, the loss is 44.35392278265513, parameters k is 7.87305636498367 and b is -26.850974521443316\n",
      "Iteration 142, the loss is 44.35388620185077, parameters k is 7.873067097517749 and b is -26.851165521282077\n",
      "Iteration 143, the loss is 44.353849677551736, parameters k is 7.8730793724065595 and b is -26.851356274021267\n",
      "Iteration 144, the loss is 44.35381320114968, parameters k is 7.873093063188792 and b is -26.851546799541357\n",
      "Iteration 145, the loss is 44.35377676538929, parameters k is 7.873108053767226 and b is -26.851737116093528\n",
      "Iteration 146, the loss is 44.353740364155904, parameters k is 7.873124237559342 and b is -26.851927240433202\n",
      "Iteration 147, the loss is 44.35370399229592, parameters k is 7.873141516717552 and b is -26.852117187942632\n",
      "Iteration 148, the loss is 44.353667645465755, parameters k is 7.873159801413328 and b is -26.852306972743424\n",
      "Iteration 149, the loss is 44.35363132000476, parameters k is 7.873179009180006 and b is -26.85249660779987\n",
      "Iteration 150, the loss is 44.353595012827476, parameters k is 7.873199064309444 and b is -26.852686105013788\n",
      "Iteration 151, the loss is 44.35355872133378, parameters k is 7.873219897298133 and b is -26.85287547531159\n",
      "Iteration 152, the loss is 44.35352244333192, parameters k is 7.8732414443387 and b is -26.853064728724227\n",
      "Iteration 153, the loss is 44.353486176974826, parameters k is 7.873263646853078 and b is -26.853253874460584\n",
      "Iteration 154, the loss is 44.353449920705735, parameters k is 7.8732864510639455 and b is -26.853442920974842\n",
      "Iteration 155, the loss is 44.35341367321256, parameters k is 7.87330980760128 and b is -26.853631876028327\n",
      "Iteration 156, the loss is 44.353377433389475, parameters k is 7.873333671141162 and b is -26.8538207467463\n",
      "Iteration 157, the loss is 44.35334120030445, parameters k is 7.873358000074178 and b is -26.854009539670084\n",
      "Iteration 158, the loss is 44.35330497317201, parameters k is 7.8733827562009955 and b is -26.854198260804917\n",
      "Iteration 159, the loss is 44.35326875133003, parameters k is 7.873407904452899 and b is -26.85438691566389\n",
      "Iteration 160, the loss is 44.35323253422049, parameters k is 7.873433412635213 and b is -26.854575509308287\n",
      "Iteration 161, the loss is 44.353196321373154, parameters k is 7.873459251191767 and b is -26.85476404638459\n",
      "Iteration 162, the loss is 44.35316011239164, parameters k is 7.873485392988658 and b is -26.854952531158506\n",
      "Iteration 163, the loss is 44.353123906941825, parameters k is 7.873511813115729 and b is -26.855140967546145\n",
      "Iteration 164, the loss is 44.35308770474209, parameters k is 7.8735384887043285 and b is -26.855329359142686\n",
      "Iteration 165, the loss is 44.353051505555165, parameters k is 7.873565398759997 and b is -26.855517709248677\n",
      "Iteration 166, the loss is 44.35301530918099, parameters k is 7.873592524008869 and b is -26.85570602089418\n",
      "Iteration 167, the loss is 44.352979115450914, parameters k is 7.873619846756663 and b is -26.85589429686093\n",
      "Iteration 168, the loss is 44.35294292422278, parameters k is 7.873647350759225 and b is -26.85608253970271\n",
      "Iteration 169, the loss is 44.352906735376926, parameters k is 7.873675021103689 and b is -26.85627075176401\n",
      "Iteration 170, the loss is 44.352870548812355, parameters k is 7.873702844099364 and b is -26.856458935197185\n",
      "Iteration 171, the loss is 44.35283436444385, parameters k is 7.87373080717758 and b is -26.856647091978203\n",
      "Iteration 172, the loss is 44.352798182199706, parameters k is 7.873758898799725 and b is -26.856835223921106\n",
      "Iteration 173, the loss is 44.352762002019475, parameters k is 7.873787108372833 and b is -26.85702333269127\n",
      "Iteration 174, the loss is 44.35272582385212, parameters k is 7.873815426172079 and b is -26.8572114198176\n",
      "Iteration 175, the loss is 44.35268964765474, parameters k is 7.873843843269638 and b is -26.857399486703706\n",
      "Iteration 176, the loss is 44.35265347339096, parameters k is 7.873872351469359 and b is -26.857587534638178\n",
      "Iteration 177, the loss is 44.3526173010303, parameters k is 7.873900943246806 and b is -26.857775564804005\n",
      "Iteration 178, the loss is 44.35258113054704, parameters k is 7.873929611694207 and b is -26.857963578287237\n",
      "Iteration 179, the loss is 44.35254496191929, parameters k is 7.8739583504699135 and b is -26.85815157608492\n",
      "Iteration 180, the loss is 44.352508795128934, parameters k is 7.873987153752008 and b is -26.85833955911241\n",
      "Iteration 181, the loss is 44.35247263016029, parameters k is 7.874016016195706 and b is -26.858527528210036\n",
      "Iteration 182, the loss is 44.35243646700049, parameters k is 7.874044932894254 and b is -26.85871548414928\n",
      "Iteration 183, the loss is 44.35240030563838, parameters k is 7.87407389934303 and b is -26.8589034276384\n",
      "Iteration 184, the loss is 44.35236414606487, parameters k is 7.874102911406591 and b is -26.85909135932762\n",
      "Iteration 185, the loss is 44.35232798827196, parameters k is 7.87413196528841 and b is -26.85927927981389\n",
      "Iteration 186, the loss is 44.35229183225301, parameters k is 7.874161057503108 and b is -26.859467189645237\n",
      "Iteration 187, the loss is 44.352255678002514, parameters k is 7.874190184850948 and b is -26.859655089324786\n",
      "Iteration 188, the loss is 44.35221952551571, parameters k is 7.874219344394429 and b is -26.85984297931444\n",
      "Iteration 189, the loss is 44.35218337478862, parameters k is 7.8742485334367895 and b is -26.860030860038254\n",
      "Iteration 190, the loss is 44.35214722581779, parameters k is 7.874277749502287 and b is -26.86021873188554\n",
      "Iteration 191, the loss is 44.35211107860047, parameters k is 7.8743069903180745 and b is -26.860406595213707\n",
      "Iteration 192, the loss is 44.3520749331342, parameters k is 7.874336253797578 and b is -26.86059445035089\n",
      "Iteration 193, the loss is 44.35203878941681, parameters k is 7.874365538025231 and b is -26.86078229759834\n",
      "Iteration 194, the loss is 44.352002647446675, parameters k is 7.874394841242454 and b is -26.860970137232627\n",
      "Iteration 195, the loss is 44.35196650722228, parameters k is 7.874424161834797 and b is -26.861157969507655\n",
      "Iteration 196, the loss is 44.35193036874232, parameters k is 7.87445349832012 and b is -26.86134579465654\n",
      "Iteration 197, the loss is 44.35189423200573, parameters k is 7.874482849337754 and b is -26.861533612893297\n",
      "Iteration 198, the loss is 44.35185809701166, parameters k is 7.8745122136385435 and b is -26.86172142441441\n",
      "Iteration 199, the loss is 44.3518219637592, parameters k is 7.874541590075709 and b is -26.86190922940027\n"
     ]
    }
   ],
   "source": [
    "#initialized parameters\n",
    "\n",
    "k = random.random() * 200 - 100  # -100 100\n",
    "b = random.random() * 200 - 100  # -100 100\n",
    "\n",
    "learning_rate = 1e-3\n",
    "\n",
    "iteration_num = 200 \n",
    "losses = []\n",
    "for i in range(iteration_num):\n",
    "    \n",
    "    price_use_current_parameters = [price(r, k, b) for r in X_rm]  # \\hat{y}\n",
    "    \n",
    "    current_loss = loss(y, price_use_current_parameters)\n",
    "    losses.append(current_loss)\n",
    "    print(\"Iteration {}, the loss is {}, parameters k is {} and b is {}\".format(i,current_loss,k,b))\n",
    "    \n",
    "    k_gradient = partial_derivative_k(X_rm, y, price_use_current_parameters)\n",
    "    b_gradient = partial_derivative_b(y, price_use_current_parameters)\n",
    "    \n",
    "    k = k + (-1 * k_gradient) * learning_rate\n",
    "    b = b + (-1 * b_gradient) * learning_rate\n",
    "best_k = k\n",
    "best_b = b"
   ]
  },
  {
   "cell_type": "code",
   "execution_count": 44,
   "metadata": {},
   "outputs": [
    {
     "data": {
      "text/plain": [
       "[<matplotlib.lines.Line2D at 0x214c8d21320>]"
      ]
     },
     "execution_count": 44,
     "metadata": {},
     "output_type": "execute_result"
    },
    {
     "data": {
      "image/png": "[encoded data removed]",
      "text/plain": [
       "<Figure size 432x288 with 1 Axes>"
      ]
     },
     "metadata": {
      "needs_background": "light"
     },
     "output_type": "display_data"
    }
   ],
   "source": [
    "plt.plot(list(range(iteration_num)),losses)"
   ]
  },
  {
   "cell_type": "code",
   "execution_count": 45,
   "metadata": {},
   "outputs": [
    {
     "data": {
      "text/plain": [
       "<matplotlib.collections.PathCollection at 0x214c8eceb38>"
      ]
     },
     "execution_count": 45,
     "metadata": {},
     "output_type": "execute_result"
    },
    {
     "data": {
      "image/png": "[encoded data removed]",
      "text/plain": [
       "<Figure size 432x288 with 1 Axes>"
      ]
     },
     "metadata": {
      "needs_background": "light"
     },
     "output_type": "display_data"
    }
   ],
   "source": [
    "price_use_best_parameters = [price(r, best_k, best_b) for r in X_rm]\n",
    "\n",
    "plt.scatter(X_rm,y)\n",
    "plt.scatter(X_rm,price_use_current_parameters)"
   ]
  },
  {
   "cell_type": "code",
   "execution_count": null,
   "metadata": {},
   "outputs": [],
   "source": []
  },
  {
   "cell_type": "code",
   "execution_count": null,
   "metadata": {},
   "outputs": [],
   "source": []
  }
 ],
 "metadata": {
  "kernelspec": {
   "display_name": "Python 3",
   "language": "python",
   "name": "python3"
  },
  "language_info": {
   "codemirror_mode": {
    "name": "ipython",
    "version": 3
   },
   "file_extension": ".py",
   "mimetype": "text/x-python",
   "name": "python",
   "nbconvert_exporter": "python",
   "pygments_lexer": "ipython3",
   "version": "3.7.3"
  }
 },
 "nbformat": 4,
 "nbformat_minor": 2
}
